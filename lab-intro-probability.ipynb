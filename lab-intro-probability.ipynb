{
 "cells": [
  {
   "cell_type": "markdown",
   "metadata": {},
   "source": [
    "# Lab | Intro to Probability"
   ]
  },
  {
   "cell_type": "markdown",
   "metadata": {},
   "source": [
    "**Objective**\n",
    "\n",
    "Welcome to this Intro to Probability lab, where we explore decision-making scenarios through the lens of probability and strategic analysis. In the business world, making informed decisions is crucial, especially when faced with uncertainties. This lab focuses on scenarios where probabilistic outcomes play a significant role in shaping strategies and outcomes. Students will engage in exercises that require assessing and choosing optimal paths based on data-driven insights. The goal is to enhance your skills by applying probability concepts to solve real-world problems."
   ]
  },
  {
   "cell_type": "markdown",
   "metadata": {},
   "source": [
    "**Challenge 1**"
   ]
  },
  {
   "cell_type": "markdown",
   "metadata": {},
   "source": [
    "#### Ironhack Airlines \n",
    "\n",
    "Often Airlines sell more tickets than they have seats available, this is called overbooking. Consider the following:\n",
    "- A plane has 450 seats. \n",
    "- Based on historical data we conclude that each individual passenger has a 3% chance of missing it's flight. \n",
    "\n",
    "If the Ironhack Airlines routinely sells 460 tickets, what is the chance that they have a seats for all passenger?"
   ]
  },
  {
   "cell_type": "code",
   "execution_count": 1,
   "metadata": {},
   "outputs": [
    {
     "name": "stdout",
     "output_type": "stream",
     "text": [
      "La probabilidad de que haya suficientes asientos para todos los pasajeros es: 0.8845\n"
     ]
    }
   ],
   "source": [
    "import scipy.stats as stats\n",
    "\n",
    "# Parámetros del problema\n",
    "n = 460  # Número de boletos vendidos\n",
    "p = 0.97  # Probabilidad de que un pasajero se presente\n",
    "seats = 450  # Número de asientos disponibles\n",
    "\n",
    "# Usamos la distribución binomial para calcular la probabilidad de que 450 o menos pasajeros se presenten\n",
    "prob = stats.binom.cdf(seats, n, p)\n",
    "\n",
    "print(f\"La probabilidad de que haya suficientes asientos para todos los pasajeros es: {prob:.4f}\")\n"
   ]
  },
  {
   "cell_type": "markdown",
   "metadata": {},
   "source": [
    "**Challenge 2**"
   ]
  },
  {
   "cell_type": "markdown",
   "metadata": {},
   "source": [
    "#### Ironhack Call Center "
   ]
  },
  {
   "cell_type": "markdown",
   "metadata": {},
   "source": [
    "Suppose a customer service representative at a call center is handling customer complaints. Consider the following:\n",
    "- The probability of successfully resolving a customer complaint on the first attempt is 0.3. \n",
    "\n",
    "\n",
    "What is the probability that the representative needs to make at least three attempts before successfully resolving a customer complaint?"
   ]
  },
  {
   "cell_type": "code",
   "execution_count": 2,
   "metadata": {},
   "outputs": [
    {
     "name": "stdout",
     "output_type": "stream",
     "text": [
      "La probabilidad de que se necesiten al menos 3 intentos es: 0.4900\n"
     ]
    }
   ],
   "source": [
    "p = 0.3  # Probabilidad de éxito en cada intento\n",
    "\n",
    "# Probabilidad de que el éxito ocurra en el primer o segundo intento\n",
    "prob_less_than_3 = stats.geom.cdf(2, p)\n",
    "\n",
    "# Probabilidad de que el éxito ocurra en el tercer intento o después\n",
    "prob_at_least_3 = 1 - prob_less_than_3\n",
    "\n",
    "print(f\"La probabilidad de que se necesiten al menos 3 intentos es: {prob_at_least_3:.4f}\")"
   ]
  },
  {
   "cell_type": "markdown",
   "metadata": {},
   "source": [
    "**Challenge 3**"
   ]
  },
  {
   "cell_type": "markdown",
   "metadata": {},
   "source": [
    "#### Ironhack Website"
   ]
  },
  {
   "cell_type": "markdown",
   "metadata": {},
   "source": [
    "Consider a scenario related to Ironhack website traffic. Where:\n",
    "- our website takes on average 500 visits per hour.\n",
    "- the website's server is designed to handle up to 550 vists per hour.\n",
    "\n",
    "\n",
    "What is the probability of the website server being overwhelmed?"
   ]
  },
  {
   "cell_type": "code",
   "execution_count": 3,
   "metadata": {},
   "outputs": [
    {
     "name": "stdout",
     "output_type": "stream",
     "text": [
      "La probabilidad de que el servidor sea sobrecargado es: 0.0129\n"
     ]
    }
   ],
   "source": [
    "lambda_visits = 500  # Tasa media de visitas por hora\n",
    "server_capacity = 550  # Capacidad del servidor\n",
    "\n",
    "# Calculamos la probabilidad de que el número de visitas sea menor o igual a 550\n",
    "prob_less_than_or_equal_550 = stats.poisson.cdf(server_capacity, lambda_visits)\n",
    "\n",
    "# Calculamos la probabilidad de que el servidor sea sobrepasado (más de 550 visitas)\n",
    "prob_overwhelmed = 1 - prob_less_than_or_equal_550\n",
    "\n",
    "print(f\"La probabilidad de que el servidor sea sobrecargado es: {prob_overwhelmed:.4f}\")"
   ]
  },
  {
   "cell_type": "markdown",
   "metadata": {},
   "source": [
    "What is the probability of being overwhelmed at some point during a day? (consider 24hours)"
   ]
  },
  {
   "cell_type": "code",
   "execution_count": 4,
   "metadata": {},
   "outputs": [
    {
     "name": "stdout",
     "output_type": "stream",
     "text": [
      "La probabilidad de que el servidor sea sobrecargado al menos una vez en el día es: 0.2677\n"
     ]
    }
   ],
   "source": [
    "hours_per_day = 24  # Horas en un día\n",
    "\n",
    "# Probabilidad de que el servidor sea sobrecargado en una hora\n",
    "prob_overwhelmed_hour = 1 - stats.poisson.cdf(server_capacity, lambda_visits)\n",
    "\n",
    "# Probabilidad de que el servidor no sea sobrecargado en 24 horas\n",
    "prob_no_overwhelmed_day = (1 - prob_overwhelmed_hour) ** hours_per_day\n",
    "\n",
    "# Probabilidad de que el servidor sea sobrecargado al menos una vez en el día\n",
    "prob_overwhelmed_day = 1 - prob_no_overwhelmed_day\n",
    "\n",
    "print(f\"La probabilidad de que el servidor sea sobrecargado al menos una vez en el día es: {prob_overwhelmed_day:.4f}\")"
   ]
  },
  {
   "cell_type": "markdown",
   "metadata": {},
   "source": [
    "**Challenge 4**"
   ]
  },
  {
   "cell_type": "markdown",
   "metadata": {},
   "source": [
    "#### Ironhack Helpdesk"
   ]
  },
  {
   "cell_type": "markdown",
   "metadata": {},
   "source": [
    "Consider a scenario related to the time between arrivals of customers at a service desk.\n",
    "\n",
    "On average, a customers arrives every 10minutes.\n",
    "\n",
    "What is the probability that the next customer will arrive within the next 5 minutes?"
   ]
  },
  {
   "cell_type": "code",
   "execution_count": 5,
   "metadata": {},
   "outputs": [
    {
     "name": "stdout",
     "output_type": "stream",
     "text": [
      "La probabilidad de que el próximo cliente llegue dentro de 5 minutos es: 0.3935\n"
     ]
    }
   ],
   "source": [
    "rate_per_minute = 1 / 10  # Tasa de llegada (clientes por minuto)\n",
    "time_limit = 5  # Tiempo en minutos\n",
    "\n",
    "# Calculamos la probabilidad de que el próximo cliente llegue en menos de 5 minutos\n",
    "prob_next_5_minutes = stats.expon.cdf(time_limit, scale=1/rate_per_minute)\n",
    "\n",
    "print(f\"La probabilidad de que el próximo cliente llegue dentro de 5 minutos es: {prob_next_5_minutes:.4f}\")"
   ]
  },
  {
   "cell_type": "markdown",
   "metadata": {},
   "source": [
    "If there is no customer for 15minutes, employees can that a 5minutes break.\n",
    "\n",
    "What is the probability an employee taking a break?"
   ]
  },
  {
   "cell_type": "code",
   "execution_count": 6,
   "metadata": {},
   "outputs": [
    {
     "name": "stdout",
     "output_type": "stream",
     "text": [
      "La probabilidad de que los empleados puedan tomar un descanso es: 0.2231\n"
     ]
    }
   ],
   "source": [
    "no_customer_time = 15  # Tiempo en minutos para tomar el descanso\n",
    "\n",
    "# Calculamos la probabilidad de que no haya ningún cliente en 15 minutos\n",
    "prob_no_customer_15 = stats.expon.sf(no_customer_time, scale=1/rate_per_minute)\n",
    "\n",
    "print(f\"La probabilidad de que los empleados puedan tomar un descanso es: {prob_no_customer_15:.4f}\")"
   ]
  },
  {
   "cell_type": "markdown",
   "metadata": {},
   "source": [
    "**Challenge 5**"
   ]
  },
  {
   "cell_type": "markdown",
   "metadata": {},
   "source": [
    "The weights of a certain species of birds follow a normal distribution with a mean weight of 150 grams and a standard deviation of 10 grams. \n",
    "\n",
    "- If we randomly select a bird, what is the probability that its weight is between 140 and 160 grams?"
   ]
  },
  {
   "cell_type": "code",
   "execution_count": 7,
   "metadata": {},
   "outputs": [
    {
     "name": "stdout",
     "output_type": "stream",
     "text": [
      "La probabilidad de que el peso esté entre 140 y 160 gramos es: 0.6827\n"
     ]
    }
   ],
   "source": [
    "mu = 150  # Media\n",
    "sigma = 10  # Desviación estándar\n",
    "\n",
    "# Valores entre los que queremos encontrar la probabilidad\n",
    "lower_bound = 140\n",
    "upper_bound = 160\n",
    "\n",
    "# Calculamos la probabilidad acumulada hasta 160 gramos y 140 gramos\n",
    "prob_160 = stats.norm.cdf(upper_bound, mu, sigma)\n",
    "prob_140 = stats.norm.cdf(lower_bound, mu, sigma)\n",
    "\n",
    "# Probabilidad de que el peso esté entre 140 y 160 gramos\n",
    "prob_between = prob_160 - prob_140\n",
    "\n",
    "print(f\"La probabilidad de que el peso esté entre 140 y 160 gramos es: {prob_between:.4f}\")"
   ]
  },
  {
   "cell_type": "markdown",
   "metadata": {},
   "source": [
    "**Challenge 6**"
   ]
  },
  {
   "cell_type": "markdown",
   "metadata": {},
   "source": [
    "If the lifetime (in hours) of a certain electronic component follows an exponential distribution with a mean lifetime of 50 hours, what is the probability that the component fails within the first 30 hours?"
   ]
  },
  {
   "cell_type": "code",
   "execution_count": 8,
   "metadata": {},
   "outputs": [
    {
     "name": "stdout",
     "output_type": "stream",
     "text": [
      "La probabilidad de que el componente falle en las primeras 30 horas es: 0.4512\n"
     ]
    }
   ],
   "source": [
    "mean_lifetime = 50  # Media de vida (esperanza de vida)\n",
    "rate = 1 / mean_lifetime  # Tasa de fallo (lambda)\n",
    "time_limit = 30  # Tiempo límite (30 horas)\n",
    "\n",
    "# Calculamos la probabilidad de fallo en las primeras 30 horas\n",
    "prob_failure_30 = stats.expon.cdf(time_limit, scale=1/rate)\n",
    "\n",
    "print(f\"La probabilidad de que el componente falle en las primeras 30 horas es: {prob_failure_30:.4f}\")"
   ]
  },
  {
   "cell_type": "code",
   "execution_count": null,
   "metadata": {},
   "outputs": [],
   "source": []
  }
 ],
 "metadata": {
  "kernelspec": {
   "display_name": "Python 3",
   "language": "python",
   "name": "python3"
  },
  "language_info": {
   "codemirror_mode": {
    "name": "ipython",
    "version": 3
   },
   "file_extension": ".py",
   "mimetype": "text/x-python",
   "name": "python",
   "nbconvert_exporter": "python",
   "pygments_lexer": "ipython3",
   "version": "3.11.9"
  }
 },
 "nbformat": 4,
 "nbformat_minor": 2
}
